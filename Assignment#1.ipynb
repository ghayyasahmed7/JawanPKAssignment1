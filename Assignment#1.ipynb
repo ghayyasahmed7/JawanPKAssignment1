{
 "cells": [
  {
   "cell_type": "code",
   "execution_count": 6,
   "id": "e9480057",
   "metadata": {},
   "outputs": [
    {
     "name": "stdout",
     "output_type": "stream",
     "text": [
      "Twinkle, twinkle, little star,\n",
      "\t How I wonder what you are!\n",
      "\t\tUp above the world so high,\n",
      "\t\tLike a diamond in the sky.\n",
      "Twinkle, twinkle, little star,\n",
      "\t How I wonder what you are!\n"
     ]
    }
   ],
   "source": [
    "# Question 1\n",
    "# Write a Python program to print the following string in a specific format (see the output).\n",
    "\n",
    "line1 = \"Twinkle, twinkle, little star,\"\n",
    "line2 = \"How I wonder what you are!\"\n",
    "line3 = \"Up above the world so high,\"\n",
    "line4 = \"Like a diamond in the sky.\"\n",
    "\n",
    "print(line1)\n",
    "print(\"\\t \"+line2)\n",
    "print(\"\\t\\t\"+line3)\n",
    "print(\"\\t\\t\"+line4)\n",
    "print(line1)\n",
    "print(\"\\t \"+line2)"
   ]
  },
  {
   "cell_type": "code",
   "execution_count": 4,
   "id": "f7c2c999",
   "metadata": {},
   "outputs": [
    {
     "name": "stdout",
     "output_type": "stream",
     "text": [
      "Python version\n",
      "3.9.7\n"
     ]
    }
   ],
   "source": [
    "# Question 2\n",
    "# Write a Python program to get the Python version you are using\n",
    "import sys\n",
    "print(\"Python version\")\n",
    "print (sys.version[:5])"
   ]
  },
  {
   "cell_type": "code",
   "execution_count": 9,
   "id": "70fe981c",
   "metadata": {},
   "outputs": [
    {
     "name": "stdout",
     "output_type": "stream",
     "text": [
      "Current date: 31/12/2021\n",
      "Current time: 19:43:17\n"
     ]
    }
   ],
   "source": [
    "# Question 3\n",
    "# Write a Python program to display the current date and time.\n",
    "\n",
    "import datetime\n",
    "now = datetime.datetime.now()\n",
    "print (\"Current date:\",now.strftime(\"%d/%m/%Y\"))\n",
    "print (\"Current time:\",now.strftime(\"%H:%M:%S\"))\n"
   ]
  },
  {
   "cell_type": "code",
   "execution_count": 12,
   "id": "7e81f394",
   "metadata": {},
   "outputs": [
    {
     "name": "stdout",
     "output_type": "stream",
     "text": [
      "Enter the radius of a circle: 4\n",
      "Area of circle: 50.265\n"
     ]
    }
   ],
   "source": [
    "# Question 4\n",
    "# Write a Python program which accepts the radius of a circle from the user and compute the area.\n",
    "\n",
    "from math import pi,pow\n",
    "\n",
    "radius = float(input(\"Enter the radius of a circle: \"))\n",
    "area = pi * pow(radius,2)\n",
    "print(\"Area of circle:\",round(area,3))\n"
   ]
  },
  {
   "cell_type": "code",
   "execution_count": 13,
   "id": "f5f35e43",
   "metadata": {},
   "outputs": [
    {
     "name": "stdout",
     "output_type": "stream",
     "text": [
      "demhA sayyahG\n"
     ]
    }
   ],
   "source": [
    "# Question 5\n",
    "# Write a Python program which accepts the user's first and last name and print them in reverse order with a space between them.\n",
    "firstname = \"Ghayyas\"\n",
    "lastname = \"Ahmed\"\n",
    "\n",
    "print(lastname[::-1] + \" \" + firstname[::-1])"
   ]
  },
  {
   "cell_type": "code",
   "execution_count": 14,
   "id": "99d11ae9",
   "metadata": {},
   "outputs": [
    {
     "name": "stdout",
     "output_type": "stream",
     "text": [
      "Enter number 1: 4\n",
      "Enter number 2: 6.5\n",
      "Addition = 10.5\n"
     ]
    }
   ],
   "source": [
    "# Question 6\n",
    "# Write a python program which takes two inputs from user and print them addition\n",
    "\n",
    "num1 = float(input(\"Enter number 1: \"))\n",
    "num2 = float(input(\"Enter number 2: \"))\n",
    "\n",
    "print(\"Addition =\",num1+num2)"
   ]
  },
  {
   "cell_type": "code",
   "execution_count": null,
   "id": "62aff2f5",
   "metadata": {},
   "outputs": [],
   "source": []
  }
 ],
 "metadata": {
  "kernelspec": {
   "display_name": "Python 3 (ipykernel)",
   "language": "python",
   "name": "python3"
  },
  "language_info": {
   "codemirror_mode": {
    "name": "ipython",
    "version": 3
   },
   "file_extension": ".py",
   "mimetype": "text/x-python",
   "name": "python",
   "nbconvert_exporter": "python",
   "pygments_lexer": "ipython3",
   "version": "3.9.7"
  }
 },
 "nbformat": 4,
 "nbformat_minor": 5
}
